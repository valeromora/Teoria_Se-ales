{
  "nbformat": 4,
  "nbformat_minor": 0,
  "metadata": {
    "colab": {
      "provenance": [],
      "authorship_tag": "ABX9TyPew/s+uCjN61+pnCKMLv8M",
      "include_colab_link": true
    },
    "kernelspec": {
      "name": "python3",
      "display_name": "Python 3"
    },
    "language_info": {
      "name": "python"
    }
  },
  "cells": [
    {
      "cell_type": "markdown",
      "metadata": {
        "id": "view-in-github",
        "colab_type": "text"
      },
      "source": [
        "<a href=\"https://colab.research.google.com/github/valeromora/Teoria_Se-ales/blob/main/ST_Taller_2.ipynb\" target=\"_parent\"><img src=\"https://colab.research.google.com/assets/colab-badge.svg\" alt=\"Open In Colab\"/></a>"
      ]
    },
    {
      "cell_type": "markdown",
      "source": [
        "#*Taller 2*#"
      ],
      "metadata": {
        "id": "uyiHRg8Y8RnT"
      }
    },
    {
      "cell_type": "markdown",
      "source": [
        "###*Ejercicio 1: Sistema de Biblioteca*###\n",
        "Crea una clase Libro que contenga atributos como título, autor, año de publicación y estado\n",
        "(disponible o prestado). Luego, desarrolla una clase Biblioteca que gestione una colección de\n",
        "objetos Libro. Esta clase debe incluir métodos para:\n",
        "\n",
        "Añadir un nuevo libro al catálogo.\n",
        "Prestar un libro a un usuario (cambiar el estado a prestado).\n",
        "Devolver un libro (cambiar el estado a disponible).\n",
        "Buscar libros por autor o título.\n",
        "Mostrar los libros disponibles para préstamo."
      ],
      "metadata": {
        "id": "annP9wjZ7hrI"
      }
    },
    {
      "cell_type": "code",
      "source": [
        "import numpy as np\n",
        "import sympy as sym\n",
        "import pandas as pd"
      ],
      "metadata": {
        "id": "3SOfwGGuT_Da"
      },
      "execution_count": 28,
      "outputs": []
    },
    {
      "cell_type": "code",
      "execution_count": 30,
      "metadata": {
        "id": "lQnvBd6T6qGc",
        "colab": {
          "base_uri": "https://localhost:8080/"
        },
        "outputId": "39fdeb6d-fa34-4c6f-fe26-26286bb23fe2"
      },
      "outputs": [
        {
          "output_type": "stream",
          "name": "stdout",
          "text": [
            "Se añadio un libro al catálogo\n",
            "Se añadio un libro al catálogo\n",
            "El libro ha sido prestado\n",
            "El ibro ha sido devuelto\n",
            "Se encontraron los siguientes libros con el titulo:  Harry Potter\n",
            "Ninguno\n",
            "Se encontraron los siguientes libros del  autor:  Dostoyevski\n",
            "Libro: Noches Blancas, Autor: Dostoyevski, Año: 1848, Estado: disponible\n",
            "Libro: El extranjero, Autor: Albert Camus, Año: 1942, Estado: disponible\n",
            "Libro: Noches Blancas, Autor: Dostoyevski, Año: 1848, Estado: disponible\n"
          ]
        }
      ],
      "source": [
        "class Libro:\n",
        "  def __init__(self, titulo, autor, año, estado):\n",
        "    self.titulo = titulo\n",
        "    self.autor = autor\n",
        "    self.año = año\n",
        "    self.estado = estado\n",
        "\n",
        "  def __str__(self):\n",
        "    return f\"Libro: {self.titulo}, Autor: {self.autor}, Año: {self.año}, Estado: {self.estado}\"\n",
        "\n",
        "class Biblioteca:\n",
        "  def __init__(self):\n",
        "    self.colection = []\n",
        "\n",
        "  def añadir_libro(self, libro):\n",
        "    self.colection.append(libro)\n",
        "    print(\"Se añadio un libro al catálogo\")\n",
        "\n",
        "  def prestar_libro(self, titulo):\n",
        "    for libro in self.colection:\n",
        "      if libro.titulo == titulo and libro.estado == 'disponible':\n",
        "        libro.estado = 'prestado'\n",
        "        print(\"El libro ha sido prestado\")\n",
        "        return\n",
        "    print(\"El libro no está disponible\")\n",
        "\n",
        "  def devolver_libro(self, titulo):\n",
        "    for libro in self.colection:\n",
        "      if libro.titulo == titulo and libro.estado == 'prestado':\n",
        "        libro.estado = 'disponible'\n",
        "        print(\"El ibro ha sido devuelto\")\n",
        "        return\n",
        "    print(\"El libro no se encuentra en prestamo\")\n",
        "\n",
        "  def buscar_autor(self, autor):\n",
        "    encontrados = False\n",
        "    print(\"Se encontraron los siguientes libros del  autor: \", autor)\n",
        "    for libro in self.colection:\n",
        "      if libro.autor == autor:\n",
        "        print(libro)\n",
        "        encontrados = True\n",
        "    if not encontrados:\n",
        "      print(\"Ninguno\")\n",
        "\n",
        "  def buscar_titulo(self, titulo):\n",
        "    encontrados = False\n",
        "    print(\"Se encontraron los siguientes libros con el titulo: \", titulo)\n",
        "    for libro in self.colection:\n",
        "      if libro.titulo == titulo:\n",
        "        print(libro)\n",
        "        encontrados = True\n",
        "    if not encontrados:\n",
        "      print(\"Ninguno\")\n",
        "\n",
        "  def ver_disponibles(self):\n",
        "    disponibles = [libro for libro in self.colection if libro.estado == 'disponible']\n",
        "    return disponibles\n",
        "\n",
        "\n",
        "biblioteca = Biblioteca()\n",
        "\n",
        "libro1 = Libro(\"El extranjero\", \"Albert Camus\", 1942, 'disponible')\n",
        "libro2 = Libro(\"Noches Blancas\", \"Dostoyevski\", 1848, 'disponible')\n",
        "\n",
        "biblioteca.añadir_libro(libro1)\n",
        "biblioteca.añadir_libro(libro2)\n",
        "\n",
        "biblioteca.prestar_libro(\"El extranjero\")\n",
        "biblioteca.devolver_libro(\"El extranjero\")\n",
        "\n",
        "biblioteca.buscar_titulo(\"Harry Potter\")\n",
        "biblioteca.buscar_autor(\"Dostoyevski\")\n",
        "\n",
        "libros_disponibles = biblioteca.ver_disponibles()\n",
        "for libro in libros_disponibles:\n",
        "    print(libro)"
      ]
    },
    {
      "cell_type": "markdown",
      "source": [
        "###*Ejercicio 2: Sistema de Reservas de Hotel*###\n",
        "Define una clase Habitacion con atributos como número de habitación, tipo (simple, doble, suite),\n",
        "precio por noche y estado (ocupada o disponible). Luego, crea una clase Hotel que administre\n",
        "varias habitaciones. La clase Hotel debe ofrecer funcionalidades para:\n",
        "\n",
        "Registrar una nueva habitación.\n",
        "Reservar una habitación, cambiando su estado a ocupado.\n",
        "Liberar una habitación después de la estancia, cambiando su estado a disponible.\n",
        "Calcular el costo de la estancia de un cliente.\n",
        "Mostrar todas las habitaciones disponibles."
      ],
      "metadata": {
        "id": "PTAuF0L57389"
      }
    },
    {
      "cell_type": "code",
      "source": [
        "class Habitacion:\n",
        "  def __init__(self, number, tipo, pricepernight, estado):\n",
        "    self.number = number\n",
        "    self.tipo = tipo\n",
        "    self.pricepernight = pricepernight\n",
        "    self.estado = estado\n",
        "\n",
        "  def __str__(self):\n",
        "    return f\"Habitacion: Numero: {self.number}, Tipo: {self.tipo}, Preciopornoche: {self.pricepernight}, Estado: {self.estado}\"\n",
        "\n",
        "class Hotel:\n",
        "  def __init__(self):\n",
        "    self.habitaciones = []\n",
        "\n",
        "  def registrar_habitacion(self, habitacion):\n",
        "    self.habitaciones.append(habitacion)\n",
        "    print(\"Se registro una habitacion\")\n",
        "\n",
        "  def reservar_habitacion(self, number):\n",
        "    for habitacion in self.habitaciones:\n",
        "      if habitacion.number == number and habitacion.estado == 'disponible':\n",
        "        habitacion.estado = 'ocupada'\n",
        "        print(\"La habitacion ha sido reservada\")\n",
        "        return\n",
        "    print(\"La habitacion no está disponible\")\n",
        "\n",
        "  def liberar_habitacion(self, number):\n",
        "    for habitacion in self.habitaciones:\n",
        "      if habitacion.number == number and habitacion.estado == 'ocupada':\n",
        "        habitacion.estado = 'disponible'\n",
        "        print(\"La habitacion ha sido liberada\")\n",
        "        return\n",
        "    print(\"La habitacion no se encuentra reservada\")\n",
        "\n",
        "  def calcular_costo_estancia(self, number, num_noches):\n",
        "    for habitacion in self.habitaciones:\n",
        "      if habitacion.number == number and habitacion.estado == 'ocupada':\n",
        "        costo_total = habitacion.pricepernight * num_noches\n",
        "        print(f\"El costo total de la estancia es: {costo_total}\")\n",
        "        return\n",
        "    print(\"La habitacion no está ocupada\")\n",
        "\n",
        "  def ver_disponibles(self):\n",
        "    disponibles = [habitacion for habitacion in self.habitaciones if habitacion.estado == 'disponible']\n",
        "    return disponibles\n",
        "\n",
        "\n",
        "hotel = Hotel()\n",
        "\n",
        "habitacion1 = Habitacion(101, 'suite', 100, 'disponible')\n",
        "habitacion2 = Habitacion(102, 'simple', 30, 'disponible')\n",
        "\n",
        "hotel.registrar_habitacion(habitacion1)\n",
        "hotel.registrar_habitacion(habitacion2)\n",
        "\n",
        "hotel.reservar_habitacion(101)\n",
        "hotel.calcular_costo_estancia(101, 3)\n",
        "hotel.liberar_habitacion(101)\n",
        "\n",
        "hotel.reservar_habitacion(102)\n",
        "hotel.liberar_habitacion(102)\n",
        "\n",
        "habitaciones_disponibles = hotel.ver_disponibles()\n",
        "for habitacion in habitaciones_disponibles:\n",
        "    print(habitacion)"
      ],
      "metadata": {
        "id": "7wr-fuVK77Mk",
        "colab": {
          "base_uri": "https://localhost:8080/"
        },
        "outputId": "3de083d2-436f-4b69-933c-7c9404fe06c4"
      },
      "execution_count": 37,
      "outputs": [
        {
          "output_type": "stream",
          "name": "stdout",
          "text": [
            "Se registro una habitacion\n",
            "Se registro una habitacion\n",
            "La habitacion ha sido reservada\n",
            "El costo total de la estancia es: 300\n",
            "La habitacion ha sido liberada\n",
            "La habitacion ha sido reservada\n",
            "La habitacion ha sido liberada\n",
            "Habitacion: Numero: 101, Tipo: suite, Preciopornoche: 100, Estado: disponible\n",
            "Habitacion: Numero: 102, Tipo: simple, Preciopornoche: 30, Estado: disponible\n"
          ]
        }
      ]
    },
    {
      "cell_type": "markdown",
      "source": [
        "###*Ejercicio 3: Sistema de Gestión de Empleados*###\n",
        "Implementa una clase Empleado con atributos como nombre, identificación, puesto y salario.\n",
        "Posteriormente, desarrolla una clase Departamento que contenga una lista de empleados. Esta\n",
        "clase debe ser capaz de:\n",
        "\n",
        "Añadir un nuevo empleado.\n",
        "Eliminar un empleado por su identificación.\n",
        "Aumentar el salario de un empleado por un porcentaje dado.\n",
        "Mostrar la información de todos los empleados.\n",
        "Calcular el gasto total en salarios dentro del departamento."
      ],
      "metadata": {
        "id": "UiS7C7SH7-Tx"
      }
    },
    {
      "cell_type": "code",
      "source": [
        "class Empleado:\n",
        "  def __init__(self, nombre, id, puesto, salario):\n",
        "    self.nombre = nombre\n",
        "    self.id = id\n",
        "    self.puesto = puesto\n",
        "    self.salario = salario\n",
        "\n",
        "  def __str__(self):\n",
        "    return f\"Emepleado: Nombre: {self.nombre}, ID: {self.id}, Puesto: {self.puesto}, Salario: {self.salario}\"\n",
        "\n",
        "class Departamento:\n",
        "  def __init__(self):\n",
        "    self.empleados = []\n",
        "\n",
        "  def añadir_empleado(self, empleado):\n",
        "    self.empleados.append(empleado)\n",
        "    print(\"Se añadió un empleado\")\n",
        "\n",
        "  def eliminar_empleado(self, id):\n",
        "    for empleado in self.empleados:\n",
        "      if empleado.id == id:\n",
        "        self.empleados.remove(empleado)\n",
        "        print(\"El empleado ha sido eliminado\")\n",
        "        return\n",
        "    print(\"Este empleado no esta registrado\")\n",
        "\n",
        "  def aumentar_salario(self, id, porc):\n",
        "    for empleado in self.empleados:\n",
        "      if empleado.id == id:\n",
        "        empleado.salario += empleado.salario*(porc/100)\n",
        "        print(\"El salario del empleado ha sido actualizado a \", empleado.salario)\n",
        "        return\n",
        "    print(\"Este empleado no esta registrado\")\n",
        "\n",
        "  def calcular_gastoen_salarios(self):\n",
        "    gasto_total = sum(empleado.salario for empleado in self.empleados)\n",
        "    print(\"El gasto total en salarios es: \", gasto_total)\n",
        "\n",
        "  def ver_empleados(self):\n",
        "    return self.empleados\n",
        "\n",
        "\n",
        "departamento = Departamento()\n",
        "\n",
        "empleado1 = Empleado(\"Pablo\", 10764, \"Programador\", 10000)\n",
        "empleado2 = Empleado(\"Marta\", 25278, \"Diseñador\", 10000)\n",
        "\n",
        "departamento.añadir_empleado(empleado1)\n",
        "departamento.añadir_empleado(empleado2)\n",
        "\n",
        "empleados_en_departamento = departamento.ver_empleados()\n",
        "for empleado in empleados_en_departamento:\n",
        "    print(empleado)\n",
        "\n",
        "departamento.calcular_gastoen_salarios()\n",
        "\n",
        "departamento.eliminar_empleado(10764)\n",
        "departamento.aumentar_salario(25278, 10)\n",
        "\n",
        "departamento.calcular_gastoen_salarios()\n",
        "\n",
        "empleados_en_departamento = departamento.ver_empleados()\n",
        "for empleado in empleados_en_departamento:\n",
        "    print(empleado)"
      ],
      "metadata": {
        "id": "A1SvSBTy8DJB",
        "colab": {
          "base_uri": "https://localhost:8080/"
        },
        "outputId": "de6b929c-d9d1-475d-e36e-efe3ef7ba73b"
      },
      "execution_count": 41,
      "outputs": [
        {
          "output_type": "stream",
          "name": "stdout",
          "text": [
            "Se añadió un empleado\n",
            "Se añadió un empleado\n",
            "Emepleado: Nombre: Pablo, ID: 10764, Puesto: Programador, Salario: 10000\n",
            "Emepleado: Nombre: Marta, ID: 25278, Puesto: Diseñador, Salario: 10000\n",
            "El gasto total en salarios es:  20000\n",
            "El empleado ha sido eliminado\n",
            "El salario del empleado ha sido actualizado a  11000.0\n",
            "El gasto total en salarios es:  11000.0\n",
            "Emepleado: Nombre: Marta, ID: 25278, Puesto: Diseñador, Salario: 11000.0\n"
          ]
        }
      ]
    },
    {
      "cell_type": "markdown",
      "source": [
        "###*Ejercicio 4: Tienda en Línea*###\n",
        "\n",
        "Crea una clase Producto con atributos tales como identificador, nombre, precio y cantidad en\n",
        "stock. Después, diseña una clase CarritoDeCompras que permita a los usuarios agregar o eliminar\n",
        "productos, y calcular el total de su compra. La clase CarritoDeCompras debe ofrecer métodos\n",
        "para:\n",
        "\n",
        "Añadir un producto al carrito.\n",
        "Eliminar un producto del carrito.\n",
        "Mostrar los productos en el carrito.\n",
        "Calcular el total de la compra.\n",
        "Aplicar descuentos a productos específicos o al total de la compra."
      ],
      "metadata": {
        "id": "NRMmeKHp8DiD"
      }
    },
    {
      "cell_type": "code",
      "source": [
        "class Producto:\n",
        "  def __init__(self, nombre, id, precio, cantidad):\n",
        "    self.nombre = nombre\n",
        "    self.id = id\n",
        "    self.precio = precio\n",
        "    self.cantidad = cantidad\n",
        "\n",
        "  def __str__(self):\n",
        "    return f\"Producto: Nombre: {self.nombre}, ID: {self.id}, Precio: {self.precio}, Cantidad: {self.cantidad}\"\n",
        "\n",
        "class Carrito:\n",
        "  def __init__(self):\n",
        "    self.productos = []\n",
        "\n",
        "  def añadir_producto(self, producto):\n",
        "    self.productos.append(producto)\n",
        "    print(\"Se añadió un producto\")\n",
        "\n",
        "  def eliminar_producto(self, id):\n",
        "    for producto in self.productos:\n",
        "      if producto.id == id:\n",
        "        self.productos.remove(producto)\n",
        "        print(\"El producto ha sido eliminado\")\n",
        "        return\n",
        "    print(\"Este producto no estaba\")\n",
        "\n",
        "  def calcular_total_compra(self):\n",
        "    total_compra = sum((producto.precio*producto.cantidad) for producto in self.productos)\n",
        "    print(\"El gasto total de la compra es: \", total_compra)\n",
        "    return total_compra\n",
        "\n",
        "  def aplicar_descuentos(self, descuento):\n",
        "    total_compra = sum((producto.precio*producto.cantidad) for producto in self.productos)\n",
        "    total_compra -= total_compra*(descuento/100)\n",
        "    print(\"Se aplicó un descuento de al total de la compra. Nuevo total: \", total_compra)\n",
        "    return total_compra\n",
        "\n",
        "  def ver_productos(self):\n",
        "    return self.productos\n",
        "\n",
        "\n",
        "producto1 = Producto(\"Manzana\", 43, 20, 2)\n",
        "producto2 = Producto(\"Pera\", 98, 30, 3)\n",
        "\n",
        "carrito = Carrito()\n",
        "\n",
        "carrito.añadir_producto(producto1)\n",
        "carrito.añadir_producto(producto2)\n",
        "\n",
        "productos_en_carrito = carrito.ver_productos()\n",
        "for producto in productos_en_carrito:\n",
        "    print(producto)\n",
        "\n",
        "carrito.eliminar_producto(43)\n",
        "\n",
        "carrito.calcular_total_compra()\n",
        "\n",
        "total_con_descuento = carrito.aplicar_descuentos(10)\n",
        "\n",
        "productos_en_carrito = carrito.ver_productos()\n",
        "for producto in productos_en_carrito:\n",
        "    print(producto)"
      ],
      "metadata": {
        "id": "NdK55Zmj8JCR",
        "colab": {
          "base_uri": "https://localhost:8080/"
        },
        "outputId": "8535cdaf-6d56-43b0-9437-03e18481eb3c"
      },
      "execution_count": 44,
      "outputs": [
        {
          "output_type": "stream",
          "name": "stdout",
          "text": [
            "Se añadió un producto\n",
            "Se añadió un producto\n",
            "Producto: Nombre: Manzana, ID: 43, Precio: 20, Cantidad: 2\n",
            "Producto: Nombre: Pera, ID: 98, Precio: 30, Cantidad: 3\n",
            "El producto ha sido eliminado\n",
            "El gasto total de la compra es:  90\n",
            "Se aplicó un descuento de al total de la compra. Nuevo total:  81.0\n",
            "Producto: Nombre: Pera, ID: 98, Precio: 30, Cantidad: 3\n"
          ]
        }
      ]
    }
  ]
}